{
 "cells": [
  {
   "cell_type": "code",
   "execution_count": 96,
   "metadata": {},
   "outputs": [],
   "source": [
    "from IPython.core.display_functions import warnings\n",
    "import numpy as np\n",
    "import pandas as pd\n",
    "warnings.simplefilter('ignore')"
   ]
  },
  {
   "cell_type": "code",
   "execution_count": 97,
   "metadata": {},
   "outputs": [],
   "source": [
    "trash = pd.read_excel(\"trash_can.xlsx\")"
   ]
  },
  {
   "cell_type": "code",
   "execution_count": 98,
   "metadata": {},
   "outputs": [
    {
     "data": {
      "text/html": [
       "<div>\n",
       "<style scoped>\n",
       "    .dataframe tbody tr th:only-of-type {\n",
       "        vertical-align: middle;\n",
       "    }\n",
       "\n",
       "    .dataframe tbody tr th {\n",
       "        vertical-align: top;\n",
       "    }\n",
       "\n",
       "    .dataframe thead th {\n",
       "        text-align: right;\n",
       "    }\n",
       "</style>\n",
       "<table border=\"1\" class=\"dataframe\">\n",
       "  <thead>\n",
       "    <tr style=\"text-align: right;\">\n",
       "      <th></th>\n",
       "      <th>index</th>\n",
       "      <th>자치구명</th>\n",
       "      <th>도로명</th>\n",
       "      <th>세부위치</th>\n",
       "      <th>설치 지점</th>\n",
       "      <th>종류</th>\n",
       "    </tr>\n",
       "  </thead>\n",
       "  <tbody>\n",
       "    <tr>\n",
       "      <th>0</th>\n",
       "      <td>1</td>\n",
       "      <td>종로구</td>\n",
       "      <td>사직로</td>\n",
       "      <td>경복궁역 4번출구</td>\n",
       "      <td>지하철역 입구</td>\n",
       "      <td>일반쓰레기</td>\n",
       "    </tr>\n",
       "    <tr>\n",
       "      <th>1</th>\n",
       "      <td>2</td>\n",
       "      <td>종로구</td>\n",
       "      <td>사직로</td>\n",
       "      <td>경복궁역 4번출구</td>\n",
       "      <td>지하철역 입구</td>\n",
       "      <td>재활용</td>\n",
       "    </tr>\n",
       "    <tr>\n",
       "      <th>2</th>\n",
       "      <td>3</td>\n",
       "      <td>종로구</td>\n",
       "      <td>자하문로</td>\n",
       "      <td>자하문로 28</td>\n",
       "      <td>도로(가로)변</td>\n",
       "      <td>일반쓰레기</td>\n",
       "    </tr>\n",
       "    <tr>\n",
       "      <th>3</th>\n",
       "      <td>4</td>\n",
       "      <td>종로구</td>\n",
       "      <td>자하문로</td>\n",
       "      <td>자하문로 28</td>\n",
       "      <td>도로(가로)변</td>\n",
       "      <td>재활용</td>\n",
       "    </tr>\n",
       "    <tr>\n",
       "      <th>4</th>\n",
       "      <td>5</td>\n",
       "      <td>종로구</td>\n",
       "      <td>자하문로</td>\n",
       "      <td>자하문로 44</td>\n",
       "      <td>도로(가로)변</td>\n",
       "      <td>일반쓰레기</td>\n",
       "    </tr>\n",
       "  </tbody>\n",
       "</table>\n",
       "</div>"
      ],
      "text/plain": [
       "   index 자치구명   도로명       세부위치     설치 지점     종류\n",
       "0      1  종로구   사직로  경복궁역 4번출구   지하철역 입구  일반쓰레기\n",
       "1      2  종로구   사직로  경복궁역 4번출구   지하철역 입구    재활용\n",
       "2      3  종로구  자하문로    자하문로 28   도로(가로)변  일반쓰레기\n",
       "3      4  종로구  자하문로    자하문로 28   도로(가로)변    재활용\n",
       "4      5  종로구  자하문로    자하문로 44   도로(가로)변  일반쓰레기"
      ]
     },
     "execution_count": 98,
     "metadata": {},
     "output_type": "execute_result"
    }
   ],
   "source": [
    "trash.head()"
   ]
  },
  {
   "cell_type": "code",
   "execution_count": 99,
   "metadata": {},
   "outputs": [
    {
     "data": {
      "text/plain": [
       "Index(['index', '자치구명', '도로명', '세부위치', '설치 지점', '종류'], dtype='object')"
      ]
     },
     "execution_count": 99,
     "metadata": {},
     "output_type": "execute_result"
    }
   ],
   "source": [
    "trash.columns"
   ]
  },
  {
   "cell_type": "code",
   "execution_count": 100,
   "metadata": {},
   "outputs": [],
   "source": [
    "trash.columns=['index','borough','road_name','location','point','category']"
   ]
  },
  {
   "cell_type": "code",
   "execution_count": 101,
   "metadata": {},
   "outputs": [
    {
     "data": {
      "text/plain": [
       "index          0\n",
       "borough        0\n",
       "road_name    232\n",
       "location       0\n",
       "point         32\n",
       "category       0\n",
       "dtype: int64"
      ]
     },
     "execution_count": 101,
     "metadata": {},
     "output_type": "execute_result"
    }
   ],
   "source": [
    "trash.isnull().sum()"
   ]
  },
  {
   "cell_type": "code",
   "execution_count": 102,
   "metadata": {},
   "outputs": [],
   "source": [
    "trash['road_name']=trash['road_name'].fillna('none')"
   ]
  },
  {
   "cell_type": "code",
   "execution_count": 103,
   "metadata": {},
   "outputs": [],
   "source": [
    "trash['point']=trash['point'].fillna('none')"
   ]
  },
  {
   "cell_type": "code",
   "execution_count": 104,
   "metadata": {},
   "outputs": [
    {
     "data": {
      "text/plain": [
       "index        0\n",
       "borough      0\n",
       "road_name    0\n",
       "location     0\n",
       "point        0\n",
       "category     0\n",
       "dtype: int64"
      ]
     },
     "execution_count": 104,
     "metadata": {},
     "output_type": "execute_result"
    }
   ],
   "source": [
    "trash.isnull().sum()"
   ]
  },
  {
   "cell_type": "code",
   "execution_count": 105,
   "metadata": {},
   "outputs": [],
   "source": [
    "\n",
    "\n",
    "\n"
   ]
  },
  {
   "cell_type": "code",
   "execution_count": 106,
   "metadata": {},
   "outputs": [
    {
     "data": {
      "text/html": [
       "<div>\n",
       "<style scoped>\n",
       "    .dataframe tbody tr th:only-of-type {\n",
       "        vertical-align: middle;\n",
       "    }\n",
       "\n",
       "    .dataframe tbody tr th {\n",
       "        vertical-align: top;\n",
       "    }\n",
       "\n",
       "    .dataframe thead th {\n",
       "        text-align: right;\n",
       "    }\n",
       "</style>\n",
       "<table border=\"1\" class=\"dataframe\">\n",
       "  <thead>\n",
       "    <tr style=\"text-align: right;\">\n",
       "      <th></th>\n",
       "      <th>index</th>\n",
       "      <th>borough</th>\n",
       "      <th>road_name</th>\n",
       "      <th>location</th>\n",
       "      <th>point</th>\n",
       "      <th>category</th>\n",
       "      <th>count</th>\n",
       "    </tr>\n",
       "  </thead>\n",
       "  <tbody>\n",
       "    <tr>\n",
       "      <th>0</th>\n",
       "      <td>1</td>\n",
       "      <td>종로구</td>\n",
       "      <td>사직로</td>\n",
       "      <td>경복궁역 4번출구</td>\n",
       "      <td>지하철역 입구</td>\n",
       "      <td>일반쓰레기</td>\n",
       "      <td>1</td>\n",
       "    </tr>\n",
       "    <tr>\n",
       "      <th>1</th>\n",
       "      <td>2</td>\n",
       "      <td>종로구</td>\n",
       "      <td>사직로</td>\n",
       "      <td>경복궁역 4번출구</td>\n",
       "      <td>지하철역 입구</td>\n",
       "      <td>재활용</td>\n",
       "      <td>1</td>\n",
       "    </tr>\n",
       "    <tr>\n",
       "      <th>2</th>\n",
       "      <td>3</td>\n",
       "      <td>종로구</td>\n",
       "      <td>자하문로</td>\n",
       "      <td>자하문로 28</td>\n",
       "      <td>도로(가로)변</td>\n",
       "      <td>일반쓰레기</td>\n",
       "      <td>1</td>\n",
       "    </tr>\n",
       "    <tr>\n",
       "      <th>3</th>\n",
       "      <td>4</td>\n",
       "      <td>종로구</td>\n",
       "      <td>자하문로</td>\n",
       "      <td>자하문로 28</td>\n",
       "      <td>도로(가로)변</td>\n",
       "      <td>재활용</td>\n",
       "      <td>1</td>\n",
       "    </tr>\n",
       "    <tr>\n",
       "      <th>4</th>\n",
       "      <td>5</td>\n",
       "      <td>종로구</td>\n",
       "      <td>자하문로</td>\n",
       "      <td>자하문로 44</td>\n",
       "      <td>도로(가로)변</td>\n",
       "      <td>일반쓰레기</td>\n",
       "      <td>1</td>\n",
       "    </tr>\n",
       "    <tr>\n",
       "      <th>...</th>\n",
       "      <td>...</td>\n",
       "      <td>...</td>\n",
       "      <td>...</td>\n",
       "      <td>...</td>\n",
       "      <td>...</td>\n",
       "      <td>...</td>\n",
       "      <td>...</td>\n",
       "    </tr>\n",
       "    <tr>\n",
       "      <th>5370</th>\n",
       "      <td>5371</td>\n",
       "      <td>도봉구</td>\n",
       "      <td>해등로</td>\n",
       "      <td>해등로3길 41</td>\n",
       "      <td>삼환빌라 앞 횡단보도</td>\n",
       "      <td>⑥ 횡단보도 입구</td>\n",
       "      <td>1</td>\n",
       "    </tr>\n",
       "    <tr>\n",
       "      <th>5371</th>\n",
       "      <td>5372</td>\n",
       "      <td>도봉구</td>\n",
       "      <td>해등로</td>\n",
       "      <td>해등로 103</td>\n",
       "      <td>창원초등학교 앞 횡단보도</td>\n",
       "      <td>⑥ 횡단보도 입구</td>\n",
       "      <td>1</td>\n",
       "    </tr>\n",
       "    <tr>\n",
       "      <th>5372</th>\n",
       "      <td>5373</td>\n",
       "      <td>도봉구</td>\n",
       "      <td>도봉산길</td>\n",
       "      <td>도봉산길 27</td>\n",
       "      <td>도봉고등학교 건너편 횡단보도</td>\n",
       "      <td>⑥ 횡단보도 입구</td>\n",
       "      <td>1</td>\n",
       "    </tr>\n",
       "    <tr>\n",
       "      <th>5373</th>\n",
       "      <td>5374</td>\n",
       "      <td>도봉구</td>\n",
       "      <td>도봉로</td>\n",
       "      <td>도봉동 620-23</td>\n",
       "      <td>신도봉사거리 도봉중학교방향 횡단보도</td>\n",
       "      <td>⑥ 횡단보도 입구</td>\n",
       "      <td>1</td>\n",
       "    </tr>\n",
       "    <tr>\n",
       "      <th>5374</th>\n",
       "      <td>5375</td>\n",
       "      <td>도봉구</td>\n",
       "      <td>해등로</td>\n",
       "      <td>해등로 32</td>\n",
       "      <td>창1동 서울가든아파트 버스정류장</td>\n",
       "      <td>① 정류장(버스, 택시 등)</td>\n",
       "      <td>1</td>\n",
       "    </tr>\n",
       "  </tbody>\n",
       "</table>\n",
       "<p>5375 rows × 7 columns</p>\n",
       "</div>"
      ],
      "text/plain": [
       "      index borough road_name    location                point  \\\n",
       "0         1     종로구       사직로   경복궁역 4번출구              지하철역 입구   \n",
       "1         2     종로구       사직로   경복궁역 4번출구              지하철역 입구   \n",
       "2         3     종로구      자하문로     자하문로 28              도로(가로)변   \n",
       "3         4     종로구      자하문로     자하문로 28              도로(가로)변   \n",
       "4         5     종로구      자하문로     자하문로 44              도로(가로)변   \n",
       "...     ...     ...       ...         ...                  ...   \n",
       "5370   5371     도봉구       해등로    해등로3길 41          삼환빌라 앞 횡단보도   \n",
       "5371   5372     도봉구       해등로    해등로 103         창원초등학교 앞 횡단보도   \n",
       "5372   5373     도봉구      도봉산길     도봉산길 27      도봉고등학교 건너편 횡단보도   \n",
       "5373   5374     도봉구       도봉로  도봉동 620-23  신도봉사거리 도봉중학교방향 횡단보도   \n",
       "5374   5375     도봉구       해등로      해등로 32    창1동 서울가든아파트 버스정류장   \n",
       "\n",
       "             category  count  \n",
       "0               일반쓰레기      1  \n",
       "1                 재활용      1  \n",
       "2               일반쓰레기      1  \n",
       "3                 재활용      1  \n",
       "4               일반쓰레기      1  \n",
       "...               ...    ...  \n",
       "5370        ⑥ 횡단보도 입구      1  \n",
       "5371        ⑥ 횡단보도 입구      1  \n",
       "5372        ⑥ 횡단보도 입구      1  \n",
       "5373        ⑥ 횡단보도 입구      1  \n",
       "5374  ① 정류장(버스, 택시 등)      1  \n",
       "\n",
       "[5375 rows x 7 columns]"
      ]
     },
     "execution_count": 106,
     "metadata": {},
     "output_type": "execute_result"
    }
   ],
   "source": [
    "trash"
   ]
  },
  {
   "cell_type": "code",
   "execution_count": 107,
   "metadata": {},
   "outputs": [
    {
     "data": {
      "text/plain": [
       "['① 일반쓰레기',\n",
       " '담배꽁초, 음료컵',\n",
       " '일반+담배꽁초',\n",
       " '① 일반쓰레기 수거용',\n",
       " '① 정류장(버스 등)',\n",
       " '광장, 공원 등 다중집합장소',\n",
       " '항아리형',\n",
       " '재활용수거용',\n",
       " '재활용수거 ',\n",
       " ' 재활용쓰레기',\n",
       " '② 지하철역 입구',\n",
       " '일반쓰레기수거용',\n",
       " '⑥ 횡단보도 입구',\n",
       " '기타',\n",
       " ' 일반쓰레기',\n",
       " '① 정류장(버스, 택시 등)',\n",
       " '재활용',\n",
       " '② 재활용품 수거용',\n",
       " '재활용쓰레기',\n",
       " '② 재활용쓰레기',\n",
       " '재활용 수거용',\n",
       " '일반쓰레기 수거용',\n",
       " '일반+담배꽁초 ',\n",
       " '담배꽁초',\n",
       " '일반쓰레기']"
      ]
     },
     "execution_count": 107,
     "metadata": {},
     "output_type": "execute_result"
    }
   ],
   "source": [
    "trash.head()\n",
    "list(set(trash['category']))"
   ]
  },
  {
   "cell_type": "code",
   "execution_count": 108,
   "metadata": {},
   "outputs": [],
   "source": [
    "trash['category']=trash['category'].replace('② 재활용품 수거용','재활용쓰레기')\n",
    "trash['category']=trash['category'].replace('재활용수거 ','재활용쓰레기')\n",
    "trash['category']=trash['category'].replace(' 재활용쓰레기','재활용쓰레기')\n",
    "trash['category']=trash['category'].replace('재활용','재활용쓰레기')\n",
    "trash['category']=trash['category'].replace('② 재활용쓰레기','재활용쓰레기')\n",
    "trash['category']=trash['category'].replace('재활용 수거용','재활용쓰레기')\n",
    "trash['category']=trash['category'].replace('재활용수거용','재활용쓰레기')"
   ]
  },
  {
   "cell_type": "code",
   "execution_count": 109,
   "metadata": {},
   "outputs": [
    {
     "data": {
      "text/plain": [
       "['재활용쓰레기',\n",
       " '① 일반쓰레기',\n",
       " '담배꽁초, 음료컵',\n",
       " '⑥ 횡단보도 입구',\n",
       " '② 지하철역 입구',\n",
       " '기타',\n",
       " '일반+담배꽁초',\n",
       " ' 일반쓰레기',\n",
       " '① 일반쓰레기 수거용',\n",
       " '일반쓰레기 수거용',\n",
       " '① 정류장(버스 등)',\n",
       " '일반쓰레기수거용',\n",
       " '광장, 공원 등 다중집합장소',\n",
       " '항아리형',\n",
       " '① 정류장(버스, 택시 등)',\n",
       " '일반+담배꽁초 ',\n",
       " '담배꽁초',\n",
       " '일반쓰레기']"
      ]
     },
     "execution_count": 109,
     "metadata": {},
     "output_type": "execute_result"
    }
   ],
   "source": [
    "list(set(trash['category']))"
   ]
  },
  {
   "cell_type": "code",
   "execution_count": 110,
   "metadata": {},
   "outputs": [],
   "source": [
    "trash['category']=trash['category'].replace('① 정류장(버스 등)','일반쓰레기')\n",
    "trash['category']=trash['category'].replace('① 정류장(버스, 택시 등)','일반쓰레기')\n",
    "trash['category']=trash['category'].replace('② 지하철역 입구','재활용쓰레기')\n",
    "trash['category']=trash['category'].replace('⑥ 횡단보도 입구','재활용쓰레기')\n",
    "trash['category']=trash['category'].replace('광장, 공원 등 다중집합장소','재활용쓰레기')\n",
    "trash['category']=trash['category'].replace('기타','담배꽁초')\n"
   ]
  },
  {
   "cell_type": "code",
   "execution_count": 111,
   "metadata": {},
   "outputs": [
    {
     "data": {
      "text/plain": [
       "['재활용쓰레기',\n",
       " '① 일반쓰레기',\n",
       " '담배꽁초, 음료컵',\n",
       " ' 일반쓰레기',\n",
       " '일반+담배꽁초',\n",
       " '① 일반쓰레기 수거용',\n",
       " '일반쓰레기 수거용',\n",
       " '일반쓰레기수거용',\n",
       " '항아리형',\n",
       " '일반+담배꽁초 ',\n",
       " '담배꽁초',\n",
       " '일반쓰레기']"
      ]
     },
     "execution_count": 111,
     "metadata": {},
     "output_type": "execute_result"
    }
   ],
   "source": [
    "list(set(trash['category']))"
   ]
  },
  {
   "cell_type": "code",
   "execution_count": 112,
   "metadata": {},
   "outputs": [],
   "source": [
    "trash['category']=trash['category'].replace('① 일반쓰레기','일반쓰레기')\n",
    "trash['category']=trash['category'].replace('① 일반쓰레기 수거용','일반쓰레기')\n",
    "trash['category']=trash['category'].replace('일반쓰레기수거용','일반쓰레기')\n",
    "trash['category']=trash['category'].replace('일반쓰레기 수거용','일반쓰레기')\n",
    "trash['category']=trash['category'].replace(' 일반쓰레기','일반쓰레기')"
   ]
  },
  {
   "cell_type": "code",
   "execution_count": 113,
   "metadata": {},
   "outputs": [
    {
     "data": {
      "text/plain": [
       "['재활용쓰레기', '담배꽁초, 음료컵', '일반+담배꽁초', '항아리형', '일반+담배꽁초 ', '담배꽁초', '일반쓰레기']"
      ]
     },
     "execution_count": 113,
     "metadata": {},
     "output_type": "execute_result"
    }
   ],
   "source": [
    "list(set(trash['category']))"
   ]
  },
  {
   "cell_type": "code",
   "execution_count": 114,
   "metadata": {},
   "outputs": [
    {
     "data": {
      "text/plain": [
       "['재활용쓰레기', '일반+담배꽁초', '항아리형', '담배꽁초', '일반쓰레기']"
      ]
     },
     "execution_count": 114,
     "metadata": {},
     "output_type": "execute_result"
    }
   ],
   "source": [
    "trash['category']=trash['category'].replace('일반+담배꽁초 ','일반+담배꽁초')\n",
    "trash['category']=trash['category'].replace('담배꽁초, 음료컵','담배꽁초')\n",
    "list(set(trash['category']))"
   ]
  },
  {
   "cell_type": "code",
   "execution_count": 115,
   "metadata": {},
   "outputs": [
    {
     "data": {
      "text/plain": [
       "<pandas.core.groupby.generic.DataFrameGroupBy object at 0x000001F3921129B0>"
      ]
     },
     "execution_count": 115,
     "metadata": {},
     "output_type": "execute_result"
    }
   ],
   "source": [
    "\n",
    "trash.groupby(['borough','category'])"
   ]
  },
  {
   "cell_type": "code",
   "execution_count": 116,
   "metadata": {},
   "outputs": [],
   "source": [
    "trash.borough.replace(\"강서\", \"강서구\", inplace=True)"
   ]
  },
  {
   "cell_type": "code",
   "execution_count": 117,
   "metadata": {},
   "outputs": [
    {
     "data": {
      "text/plain": [
       "['서대문구',\n",
       " '성북구',\n",
       " '광진구',\n",
       " '동대문구',\n",
       " '송파구',\n",
       " '강서구',\n",
       " '강남구',\n",
       " '금천구',\n",
       " '양천구',\n",
       " '성동구',\n",
       " '용산구',\n",
       " '종로구',\n",
       " '중구',\n",
       " '구로구',\n",
       " '마포구',\n",
       " '강동구',\n",
       " '동작구',\n",
       " '노원구',\n",
       " '도봉구',\n",
       " '중랑구',\n",
       " '관악구',\n",
       " '은평구',\n",
       " '강북구',\n",
       " '서초구',\n",
       " '영등포구']"
      ]
     },
     "execution_count": 117,
     "metadata": {},
     "output_type": "execute_result"
    }
   ],
   "source": [
    "list(set(trash['borough']))"
   ]
  },
  {
   "cell_type": "code",
   "execution_count": null,
   "metadata": {},
   "outputs": [],
   "source": []
  },
  {
   "cell_type": "code",
   "execution_count": 120,
   "metadata": {},
   "outputs": [],
   "source": [
    "trash.to_excel('new_trash.xlsx')"
   ]
  }
 ],
 "metadata": {
  "kernelspec": {
   "display_name": "Python 3.10.6 64-bit",
   "language": "python",
   "name": "python3"
  },
  "language_info": {
   "codemirror_mode": {
    "name": "ipython",
    "version": 3
   },
   "file_extension": ".py",
   "mimetype": "text/x-python",
   "name": "python",
   "nbconvert_exporter": "python",
   "pygments_lexer": "ipython3",
   "version": "3.10.6"
  },
  "orig_nbformat": 4,
  "vscode": {
   "interpreter": {
    "hash": "369f2c481f4da34e4445cda3fffd2e751bd1c4d706f27375911949ba6bb62e1c"
   }
  }
 },
 "nbformat": 4,
 "nbformat_minor": 2
}
